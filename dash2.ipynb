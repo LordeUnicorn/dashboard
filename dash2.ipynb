{
 "cells": [
  {
   "cell_type": "markdown",
   "metadata": {},
   "source": [
    "### NYC Inmates"
   ]
  },
  {
   "cell_type": "markdown",
   "metadata": {},
   "source": [
    "###### This notebook aims to analyse and visualise inmate data collected by New York City prisons in order to answer questions  such as the possibility of a relationship between the mental health of an inmate and violence and whether or not prisons need to improve mental health facilities."
   ]
  },
  {
   "cell_type": "markdown",
   "metadata": {},
   "source": [
    "###### 1. Data Cleaning\n",
    "###### 2. Exploratory Data Analysis\n",
    "###### 3. Data Visualisation\n"
   ]
  },
  {
   "cell_type": "code",
   "execution_count": 2,
   "metadata": {},
   "outputs": [],
   "source": [
    "#reading in the data\n",
    "import pandas as pd\n",
    "df = pd.read_csv('daily-inmates-in-custody.csv')\n"
   ]
  },
  {
   "cell_type": "code",
   "execution_count": null,
   "metadata": {},
   "outputs": [],
   "source": [
    "# checking missing values\n",
    "df.isnull().sum()"
   ]
  },
  {
   "cell_type": "code",
   "execution_count": 5,
   "metadata": {},
   "outputs": [],
   "source": [
    "df = df.replace(to_replace='W',value='White')\n",
    "df = df.replace(to_replace='B',value='Black')\n",
    "df = df.replace(to_replace='O',value='Other Pacific Islander')\n",
    "df = df.replace(to_replace='A',value='Asian')\n",
    "df = df.replace(to_replace='I',value='Indian')"
   ]
  },
  {
   "cell_type": "code",
   "execution_count": 8,
   "metadata": {},
   "outputs": [],
   "source": [
    "race = df['RACE'].value_counts(normalize=False).to_frame()\n",
    "rlabels = race.index.tolist()\n",
    "rvalues = race['RACE'].tolist()\n",
    "race_age = df[(df['SRG_FLG']=='Y') & (df['RACE'])]\n",
    "race = race_age['RACE'].value_counts(normalize=False).to_frame()\n",
    "ralabels = race.index.tolist()\n",
    "ravalues = race['RACE'].tolist()\n"
   ]
  },
  {
   "cell_type": "code",
   "execution_count": 11,
   "metadata": {},
   "outputs": [
    {
     "ename": "TypeError",
     "evalue": "count() takes exactly one argument (0 given)",
     "output_type": "error",
     "traceback": [
      "\u001b[0;31m---------------------------------------------------------------------------\u001b[0m",
      "\u001b[0;31mTypeError\u001b[0m                                 Traceback (most recent call last)",
      "\u001b[0;32m<ipython-input-11-5785ff05d3d0>\u001b[0m in \u001b[0;36m<module>\u001b[0;34m()\u001b[0m\n\u001b[0;32m----> 1\u001b[0;31m \u001b[0;34m(\u001b[0m\u001b[0mralabels\u001b[0m\u001b[0;34m.\u001b[0m\u001b[0mcount\u001b[0m\u001b[0;34m(\u001b[0m\u001b[0;34m)\u001b[0m\u001b[0;34m/\u001b[0m\u001b[0mrlabels\u001b[0m\u001b[0;34m.\u001b[0m\u001b[0mcount\u001b[0m\u001b[0;34m(\u001b[0m\u001b[0;34m)\u001b[0m\u001b[0;34m)\u001b[0m\u001b[0;34m*\u001b[0m\u001b[0;36m100\u001b[0m\u001b[0;34m\u001b[0m\u001b[0;34m\u001b[0m\u001b[0m\n\u001b[0m",
      "\u001b[0;31mTypeError\u001b[0m: count() takes exactly one argument (0 given)"
     ]
    }
   ],
   "source": [
    "(ralabels.count()/rlabels.count())*100"
   ]
  },
  {
   "cell_type": "markdown",
   "metadata": {},
   "source": [
    "###### All the values in the DISCHARGED_DT column are missing so I am dropping the column."
   ]
  },
  {
   "cell_type": "code",
   "execution_count": null,
   "metadata": {
    "scrolled": true
   },
   "outputs": [],
   "source": [
    "df.dropna(axis=1,how='all')"
   ]
  },
  {
   "cell_type": "markdown",
   "metadata": {},
   "source": [
    "###### The null hypothesis states that there is no relationship between mental health and being potentially violent. \n",
    "###### The alternative hypothesis states that there is a strong relationship between inmates under mental observation and being potentially violent."
   ]
  },
  {
   "cell_type": "markdown",
   "metadata": {},
   "source": [
    "### Significance Test"
   ]
  },
  {
   "cell_type": "code",
   "execution_count": null,
   "metadata": {},
   "outputs": [],
   "source": [
    "r = scipy.stats.pearsonr((df['BRADH'] == 'Y'),(df['INFRACTION'] == 'Y'))\n",
    "r"
   ]
  },
  {
   "cell_type": "markdown",
   "metadata": {},
   "source": [
    "###### A p value of 3.8e-49 disproves the null hypothesis and leads me to accepting the alternative hypothesis which states that inmates under mental observation are in fact potentially violent. This shows that there is statistical significance between the two variables."
   ]
  },
  {
   "cell_type": "code",
   "execution_count": null,
   "metadata": {},
   "outputs": [],
   "source": [
    "mental_obs_custody = df[(df.BRADH == 'Y') & (df.INFRACTION == 'Y')]\n",
    "mental_obs_custody.count()"
   ]
  },
  {
   "cell_type": "markdown",
   "metadata": {},
   "source": [
    " ###### This is a count of all inmates who are under mental observation and are potentially harmful."
   ]
  },
  {
   "cell_type": "code",
   "execution_count": null,
   "metadata": {},
   "outputs": [],
   "source": [
    "mental_custody = mental_obs_custody['CUSTODY_LEVEL'].value_counts(normalize=False).to_frame()\n",
    "label = mental_custody.index.tolist()\n",
    "value = mental_custody['CUSTODY_LEVEL'].tolist()\n",
    "mo = go.Pie(labels=label,values=value)\n",
    "layout = go.Layout(   \n",
    "        title='Custody Levels of Inmates Under Mental Observation With Infractions',\n",
    "        height=600,\n",
    "        margin=go.Margin(l=0, r=200, b=100, t=100, pad=4)   # Margins - Left, Right, Top Bottom, Padding\n",
    "        )\n",
    "\n",
    "fig = go.Figure(data=[mo], layout=layout)\n",
    "plot(fig)\n"
   ]
  },
  {
   "cell_type": "code",
   "execution_count": null,
   "metadata": {},
   "outputs": [],
   "source": [
    "mental = df[(df['BRADH'] == 'Y') & (df['CUSTODY_LEVEL'])]\n",
    "mental_custody_level = mental['CUSTODY_LEVEL'].value_counts(normalize=False).to_frame()\n",
    "label = mental_custody_level.index.tolist()\n",
    "value = mental_custody_level['CUSTODY_LEVEL'].tolist()\n",
    "moc = go.Pie(labels=label,values=value) \n",
    "layout = go.Layout(   \n",
    "        title='Custody Levels of Inmates Under Mental Observation',\n",
    "        height=600,\n",
    "        margin=go.Margin(l=0, r=200, b=100, t=100, pad=4)   # Margins - Left, Right, Top Bottom, Padding\n",
    "        )\n",
    "\n",
    "fig = go.Figure(data=[moc], layout=layout)\n",
    "plot(fig)\n"
   ]
  },
  {
   "cell_type": "code",
   "execution_count": null,
   "metadata": {},
   "outputs": [],
   "source": [
    "date = df['BRADH'].value_counts(normalize=False).to_frame()\n",
    "labels = date.index.tolist()\n",
    "\n",
    "values = date['BRADH'].tolist()\n",
    "mo = [go.Bar(x=labels,y=values)]\n",
    "layout = dict(title = \"Inmates Under Mental Observation\",\n",
    "              xaxis= dict(title= 'Mental Observation',ticklen= 5,zeroline= False))\n",
    "fig = dict(data = mo, layout = layout)\n",
    "# plot.sign_in('millie_n', '686orP7Nbe1JFcss9NfB')\n",
    "\n",
    "\n",
    "\n",
    "\n",
    "plot(fig)\n"
   ]
  },
  {
   "cell_type": "code",
   "execution_count": null,
   "metadata": {
    "scrolled": true
   },
   "outputs": [],
   "source": [
    "custodyl = df['CUSTODY_LEVEL'].value_counts(normalize=False).to_frame()\n",
    "labels = custodyl.index.tolist()\n",
    "values = custodyl['CUSTODY_LEVEL'].tolist()\n",
    "bar = [go.Bar(x=labels,y=values)]\n",
    "\n",
    "layout = dict(title = \"Custody Levels for Inmates\",\n",
    "              xaxis= dict(title= 'Custody Level',ticklen= 5,zeroline= False))\n",
    "fig = dict(data = bar, layout = layout)\n",
    "plot(fig)"
   ]
  },
  {
   "cell_type": "code",
   "execution_count": null,
   "metadata": {},
   "outputs": [],
   "source": [
    "race = df['RACE'].value_counts(normalize=False).to_frame()\n",
    "labels = race.index.tolist()\n",
    "values = race['RACE'].tolist()\n",
    "title = 'Distribution of different races in prison'\n",
    "\n",
    "pie = go.Pie(labels=labels,values=values)\n",
    "layout = go.Layout(   \n",
    "        title=title,\n",
    "        height=600,\n",
    "        margin=go.Margin(l=0, r=200, b=100, t=100, pad=4)   # Margins - Left, Right, Top Bottom, Padding\n",
    "        )\n",
    "\n",
    "fig = go.Figure(data=[pie], layout=layout)\n",
    "plot(fig)"
   ]
  },
  {
   "cell_type": "code",
   "execution_count": null,
   "metadata": {},
   "outputs": [],
   "source": [
    "date = df['SRG_FLG'].value_counts(normalize=False).to_frame()\n",
    "labels = date.index.tolist()\n",
    "\n",
    "values = date['SRG_FLG'].tolist()\n",
    "data = [go.Bar(x=labels,y=values)]\n",
    "layout = dict(title = \"Inmates Affiliated With a Gang\",\n",
    "              xaxis= dict(title= 'Gang Affiliation',ticklen= 5,zeroline= False))\n",
    "fig = dict(data = data, layout = layout)\n",
    "plot(fig)"
   ]
  },
  {
   "cell_type": "code",
   "execution_count": null,
   "metadata": {},
   "outputs": [],
   "source": [
    "age = df['AGE'].value_counts(normalize=False).to_frame()\n",
    "labels = age.index.tolist()\n",
    "values = age['AGE'].tolist()\n",
    "title = 'Distribution of different ages in prison'\n",
    "\n",
    "trace = go.Bar(x=labels,y=values)\n",
    "layout = go.Layout(   \n",
    "        title=title,\n",
    "        xaxis= dict(title= 'Ages',ticklen= 5,zeroline= False),\n",
    "        yaxis= dict(title= 'Number of Inmates',ticklen= 5,zeroline= False),\n",
    "        height=600,\n",
    "        margin=go.Margin(l=0, r=200, b=100, t=100, pad=4)  # Margins - Left, Right, Top Bottom, Padding\n",
    "        )\n",
    "\n",
    "fig = go.Figure(data=[trace], layout=layout)\n",
    "plot(fig)"
   ]
  },
  {
   "cell_type": "code",
   "execution_count": null,
   "metadata": {},
   "outputs": [],
   "source": [
    "infract = df['INFRACTION'].value_counts(normalize=False).to_frame()\n",
    "labels = infract.index.tolist()\n",
    "values = infract['INFRACTION'].tolist()\n",
    "title = 'Inmates who have infractions'\n",
    "\n",
    "infract = go.Pie(labels=labels,values=values)\n",
    "layout = go.Layout(   \n",
    "        title=title,\n",
    "        height=600,\n",
    "        margin=go.Margin(l=0, r=200, b=100, t=100, pad=4)   # Margins - Left, Right, Top Bottom, Padding\n",
    "        )\n",
    "\n",
    "fig = go.Figure(data=[infract], layout=layout)\n",
    "plot(fig)"
   ]
  },
  {
   "cell_type": "code",
   "execution_count": null,
   "metadata": {},
   "outputs": [],
   "source": [
    "gender = df['GENDER'].value_counts(normalize=False).to_frame()\n",
    "label = gender.index.tolist()\n",
    "value = gender['GENDER'].tolist()\n",
    "mo = go.Pie(labels=label,values=value)\n",
    "layout = go.Layout(   \n",
    "        title='Gender',\n",
    "        height=600,\n",
    "        margin=go.Margin(l=0, r=200, b=100, t=100, pad=4)   # Margins - Left, Right, Top Bottom, Padding\n",
    "        )\n",
    "\n",
    "fig = go.Figure(data=[mo], layout=layout)\n",
    "plot(fig)\n"
   ]
  },
  {
   "cell_type": "code",
   "execution_count": null,
   "metadata": {},
   "outputs": [],
   "source": [
    "plots = [mo,bar,pie,trace,infract]"
   ]
  },
  {
   "cell_type": "code",
   "execution_count": null,
   "metadata": {},
   "outputs": [],
   "source": [
    "box_1 = {\n",
    "    'type': 'box',\n",
    "    'boxType': 'plot',\n",
    "    'fileId': 'file:///home/madi/Desktop/dashboard/temp-plot.html',\n",
    "    'title': 'scatter-for-dashboard'\n",
    "}\n",
    "\n",
    "box_2 = {\n",
    "    'type': 'box',\n",
    "    'boxType': 'plot',\n",
    "    'fileId': 'file:///home/madi/Desktop/dashboard/temp-plot.html',\n",
    "    'title': 'pie-for-dashboard'\n",
    "}\n",
    "\n",
    "box_3 = {\n",
    "    'type': 'box',\n",
    "    'boxType': 'plot',\n",
    "    'fileId': 'file:///home/madi/Desktop/dashboard/temp-plot.html',\n",
    "    'title': 'box-for-dashboard',\n",
    "    'shareKey':'None'\n",
    "}\n",
    "\n",
    "dboard.insert(box_1)"
   ]
  },
  {
   "cell_type": "code",
   "execution_count": null,
   "metadata": {},
   "outputs": [],
   "source": [
    "dboard.insert(box_2,'below',1)"
   ]
  },
  {
   "cell_type": "code",
   "execution_count": null,
   "metadata": {},
   "outputs": [],
   "source": []
  },
  {
   "cell_type": "code",
   "execution_count": null,
   "metadata": {},
   "outputs": [],
   "source": []
  }
 ],
 "metadata": {
  "kernelspec": {
   "display_name": "Python 3",
   "language": "python",
   "name": "python3"
  },
  "language_info": {
   "codemirror_mode": {
    "name": "ipython",
    "version": 3
   },
   "file_extension": ".py",
   "mimetype": "text/x-python",
   "name": "python",
   "nbconvert_exporter": "python",
   "pygments_lexer": "ipython3",
   "version": "3.6.8"
  }
 },
 "nbformat": 4,
 "nbformat_minor": 2
}
